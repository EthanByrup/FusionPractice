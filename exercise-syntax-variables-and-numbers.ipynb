{
 "cells": [
  {
   "cell_type": "markdown",
   "id": "8f8daa94",
   "metadata": {
    "papermill": {
     "duration": 0.00887,
     "end_time": "2023-11-08T20:47:26.337003",
     "exception": false,
     "start_time": "2023-11-08T20:47:26.328133",
     "status": "completed"
    },
    "tags": []
   },
   "source": [
    "**This notebook is an exercise in the [Python](https://www.kaggle.com/learn/python) course.  You can reference the tutorial at [this link](https://www.kaggle.com/colinmorris/hello-python).**\n",
    "\n",
    "---\n"
   ]
  },
  {
   "cell_type": "markdown",
   "id": "54ceb34b",
   "metadata": {
    "papermill": {
     "duration": 0.00776,
     "end_time": "2023-11-08T20:47:26.353218",
     "exception": false,
     "start_time": "2023-11-08T20:47:26.345458",
     "status": "completed"
    },
    "tags": []
   },
   "source": [
    "Welcome to your first set of Python coding problems.  If this is your first time using Kaggle Notebooks, welcome! \n",
    "\n",
    "Notebooks are composed of blocks (called \"cells\") of text and code. Each of these is editable, though you'll mainly be editing the code cells to answer some questions.\n",
    "\n",
    "To get started, try running the code cell below (by pressing the ► button, or clicking on the cell and pressing ctrl+enter on your keyboard)."
   ]
  },
  {
   "cell_type": "code",
   "execution_count": 1,
   "id": "c3dacf5d",
   "metadata": {
    "execution": {
     "iopub.execute_input": "2023-11-08T20:47:26.372186Z",
     "iopub.status.busy": "2023-11-08T20:47:26.371269Z",
     "iopub.status.idle": "2023-11-08T20:47:26.385510Z",
     "shell.execute_reply": "2023-11-08T20:47:26.383797Z"
    },
    "papermill": {
     "duration": 0.02746,
     "end_time": "2023-11-08T20:47:26.388849",
     "exception": false,
     "start_time": "2023-11-08T20:47:26.361389",
     "status": "completed"
    },
    "tags": []
   },
   "outputs": [
    {
     "name": "stdout",
     "output_type": "stream",
     "text": [
      "You've successfully run some Python code\n",
      "Congratulations!\n"
     ]
    }
   ],
   "source": [
    "print(\"You've successfully run some Python code\")\n",
    "print(\"Congratulations!\")"
   ]
  },
  {
   "cell_type": "markdown",
   "id": "7d1e1cdf",
   "metadata": {
    "papermill": {
     "duration": 0.008453,
     "end_time": "2023-11-08T20:47:26.405959",
     "exception": false,
     "start_time": "2023-11-08T20:47:26.397506",
     "status": "completed"
    },
    "tags": []
   },
   "source": [
    "Try adding another line of code in the cell above and re-running it. \n",
    "\n",
    "Now let's get a little fancier:  Add a new code cell by clicking on an existing code cell, hitting the escape key, and then hitting the `a` or `b` key.  The `a` key will add a cell above the current cell, and `b` adds a cell below.\n",
    "\n",
    "Great! Now you know how to use Notebooks.\n",
    "\n",
    "Each hands-on exercise starts by setting up our feedback and code checking mechanism. Run the code cell below to do that. Then you'll be ready to move on to question 0."
   ]
  },
  {
   "cell_type": "code",
   "execution_count": 2,
   "id": "7319465d",
   "metadata": {
    "_kg_hide-input": true,
    "_kg_hide-output": true,
    "execution": {
     "iopub.execute_input": "2023-11-08T20:47:26.426020Z",
     "iopub.status.busy": "2023-11-08T20:47:26.425464Z",
     "iopub.status.idle": "2023-11-08T20:47:27.011288Z",
     "shell.execute_reply": "2023-11-08T20:47:27.008189Z"
    },
    "papermill": {
     "duration": 0.59988,
     "end_time": "2023-11-08T20:47:27.014898",
     "exception": false,
     "start_time": "2023-11-08T20:47:26.415018",
     "status": "completed"
    },
    "tags": []
   },
   "outputs": [
    {
     "name": "stdout",
     "output_type": "stream",
     "text": [
      "Setup complete! You're ready to start question 0.\n"
     ]
    }
   ],
   "source": [
    "from learntools.core import binder; binder.bind(globals())\n",
    "from learntools.python.ex1 import *\n",
    "print(\"Setup complete! You're ready to start question 0.\")"
   ]
  },
  {
   "cell_type": "markdown",
   "id": "2f34af2f",
   "metadata": {
    "papermill": {
     "duration": 0.008547,
     "end_time": "2023-11-08T20:47:27.033819",
     "exception": false,
     "start_time": "2023-11-08T20:47:27.025272",
     "status": "completed"
    },
    "tags": []
   },
   "source": [
    "# 0.\n",
    "\n",
    "*This is a silly question intended as an introduction to the format we use for hands-on exercises throughout all Kaggle courses.*\n",
    "\n",
    "**What is your favorite color? **\n",
    "\n",
    "To complete this question, create a variable called `color` in the cell below with an appropriate value. The function call `q0.check()` (which we've already provided in the cell below) will check your answer."
   ]
  },
  {
   "cell_type": "code",
   "execution_count": 3,
   "id": "9fcec95c",
   "metadata": {
    "execution": {
     "iopub.execute_input": "2023-11-08T20:47:27.054463Z",
     "iopub.status.busy": "2023-11-08T20:47:27.053233Z",
     "iopub.status.idle": "2023-11-08T20:47:27.066414Z",
     "shell.execute_reply": "2023-11-08T20:47:27.065059Z"
    },
    "papermill": {
     "duration": 0.026681,
     "end_time": "2023-11-08T20:47:27.069429",
     "exception": false,
     "start_time": "2023-11-08T20:47:27.042748",
     "status": "completed"
    },
    "tags": []
   },
   "outputs": [
    {
     "data": {
      "application/javascript": [
       "parent.postMessage({\"jupyterEvent\": \"custom.exercise_interaction\", \"data\": {\"outcomeType\": 4, \"interactionType\": 1, \"questionType\": 2, \"questionId\": \"0_ExerciseFormatTutorial\", \"learnToolsVersion\": \"0.3.4\", \"valueTowardsCompletion\": 0.0, \"failureMessage\": \"\", \"exceptionClass\": \"\", \"trace\": \"\"}}, \"*\")"
      ],
      "text/plain": [
       "<IPython.core.display.Javascript object>"
      ]
     },
     "metadata": {},
     "output_type": "display_data"
    },
    {
     "data": {
      "text/markdown": [
       "<span style=\"color:#ccaa33\">Check:</span> When you've updated the starter code, `check()` will tell you whether your code is correct. Remember, you must create the following variable: `color`"
      ],
      "text/plain": [
       "Check: When you've updated the starter code, `check()` will tell you whether your code is correct. Remember, you must create the following variable: `color`"
      ]
     },
     "metadata": {},
     "output_type": "display_data"
    }
   ],
   "source": [
    "# create a variable called color with an appropriate value on the line below\n",
    "# (Remember, strings in Python must be enclosed in 'single' or \"double\" quotes)\n",
    "____\n",
    "\n",
    "# Check your answer\n",
    "q0.check()"
   ]
  },
  {
   "cell_type": "markdown",
   "id": "0d92eb37",
   "metadata": {
    "papermill": {
     "duration": 0.009535,
     "end_time": "2023-11-08T20:47:27.089107",
     "exception": false,
     "start_time": "2023-11-08T20:47:27.079572",
     "status": "completed"
    },
    "tags": []
   },
   "source": [
    "Didn't get the right answer? How do you not even know your own favorite color?!\n",
    "\n",
    "Delete the `#` in the line below to make one of the lines run. You can choose between getting a hint or the full answer by choosing which line to remove the `#` from. \n",
    "\n",
    "Removing the `#` is called uncommenting, because it changes that line from a \"comment\" which Python doesn't run to code, which Python does run."
   ]
  },
  {
   "cell_type": "code",
   "execution_count": 4,
   "id": "1285b271",
   "metadata": {
    "execution": {
     "iopub.execute_input": "2023-11-08T20:47:27.110421Z",
     "iopub.status.busy": "2023-11-08T20:47:27.109909Z",
     "iopub.status.idle": "2023-11-08T20:47:27.115583Z",
     "shell.execute_reply": "2023-11-08T20:47:27.114366Z"
    },
    "papermill": {
     "duration": 0.019528,
     "end_time": "2023-11-08T20:47:27.118567",
     "exception": false,
     "start_time": "2023-11-08T20:47:27.099039",
     "status": "completed"
    },
    "tags": []
   },
   "outputs": [],
   "source": [
    "#q0.hint()\n",
    "#q0.solution()"
   ]
  },
  {
   "cell_type": "markdown",
   "id": "a4c6afff",
   "metadata": {
    "papermill": {
     "duration": 0.008723,
     "end_time": "2023-11-08T20:47:27.136987",
     "exception": false,
     "start_time": "2023-11-08T20:47:27.128264",
     "status": "completed"
    },
    "tags": []
   },
   "source": [
    "The upcoming questions work the same way. The only thing that will change are the question numbers. For the next question, you'll call `q1.check()`, `q1.hint()`, `q1.solution()`, for question 2, you'll call `q2.check()`, and so on."
   ]
  },
  {
   "cell_type": "markdown",
   "id": "bb8b5490",
   "metadata": {
    "papermill": {
     "duration": 0.00874,
     "end_time": "2023-11-08T20:47:27.154913",
     "exception": false,
     "start_time": "2023-11-08T20:47:27.146173",
     "status": "completed"
    },
    "tags": []
   },
   "source": [
    "<hr/>\n",
    "\n",
    "# 1.\n",
    "\n",
    "Complete the code below. In case it's helpful, here is the table of available arithmetic operations:\n",
    "\n",
    "\n",
    "\n",
    "| Operator     | Name           | Description                                            |\n",
    "|--------------|----------------|--------------------------------------------------------|\n",
    "| ``a + b``    | Addition       | Sum of ``a`` and ``b``                                 |\n",
    "| ``a - b``    | Subtraction    | Difference of ``a`` and ``b``                          |\n",
    "| ``a * b``    | Multiplication | Product of ``a`` and ``b``                             |\n",
    "| ``a / b``    | True division  | Quotient of ``a`` and ``b``                            |\n",
    "| ``a // b``   | Floor division | Quotient of ``a`` and ``b``, removing fractional parts |\n",
    "| ``a % b``    | Modulus        | Integer remainder after division of ``a`` by ``b``     |\n",
    "| ``a ** b``   | Exponentiation | ``a`` raised to the power of ``b``                     |\n",
    "| ``-a``       | Negation       | The negative of ``a``                                  |\n",
    "\n",
    "<span style=\"display:none\"></span>\n"
   ]
  },
  {
   "cell_type": "code",
   "execution_count": 5,
   "id": "550aa94a",
   "metadata": {
    "execution": {
     "iopub.execute_input": "2023-11-08T20:47:27.175164Z",
     "iopub.status.busy": "2023-11-08T20:47:27.174656Z",
     "iopub.status.idle": "2023-11-08T20:47:27.186583Z",
     "shell.execute_reply": "2023-11-08T20:47:27.185261Z"
    },
    "papermill": {
     "duration": 0.025314,
     "end_time": "2023-11-08T20:47:27.189218",
     "exception": false,
     "start_time": "2023-11-08T20:47:27.163904",
     "status": "completed"
    },
    "tags": []
   },
   "outputs": [
    {
     "data": {
      "application/javascript": [
       "parent.postMessage({\"jupyterEvent\": \"custom.exercise_interaction\", \"data\": {\"outcomeType\": 4, \"interactionType\": 1, \"questionType\": 1, \"questionId\": \"1_CircleArea\", \"learnToolsVersion\": \"0.3.4\", \"valueTowardsCompletion\": 0.0, \"failureMessage\": \"\", \"exceptionClass\": \"\", \"trace\": \"\"}}, \"*\")"
      ],
      "text/plain": [
       "<IPython.core.display.Javascript object>"
      ]
     },
     "metadata": {},
     "output_type": "display_data"
    },
    {
     "data": {
      "text/markdown": [
       "<span style=\"color:#ccaa33\">Check:</span> When you've updated the starter code, `check()` will tell you whether your code is correct. Remember, you must create the following variables: `radius`, `area`"
      ],
      "text/plain": [
       "Check: When you've updated the starter code, `check()` will tell you whether your code is correct. Remember, you must create the following variables: `radius`, `area`"
      ]
     },
     "metadata": {},
     "output_type": "display_data"
    }
   ],
   "source": [
    "pi = 3.14159 # approximate\n",
    "diameter = 3\n",
    "\n",
    "# Create a variable called 'radius' equal to half the diameter\n",
    "____\n",
    "\n",
    "# Create a variable called 'area', using the formula for the area of a circle: pi times the radius squared\n",
    "____\n",
    "\n",
    "# Check your answer\n",
    "q1.check()"
   ]
  },
  {
   "cell_type": "code",
   "execution_count": 6,
   "id": "6480dc06",
   "metadata": {
    "execution": {
     "iopub.execute_input": "2023-11-08T20:47:27.210487Z",
     "iopub.status.busy": "2023-11-08T20:47:27.209971Z",
     "iopub.status.idle": "2023-11-08T20:47:27.215680Z",
     "shell.execute_reply": "2023-11-08T20:47:27.214217Z"
    },
    "papermill": {
     "duration": 0.019865,
     "end_time": "2023-11-08T20:47:27.218565",
     "exception": false,
     "start_time": "2023-11-08T20:47:27.198700",
     "status": "completed"
    },
    "tags": []
   },
   "outputs": [],
   "source": [
    "# Uncomment and run the lines below if you need help.\n",
    "#q1.hint()\n",
    "#q1.solution()"
   ]
  },
  {
   "cell_type": "markdown",
   "id": "161deb54",
   "metadata": {
    "papermill": {
     "duration": 0.009282,
     "end_time": "2023-11-08T20:47:27.238136",
     "exception": false,
     "start_time": "2023-11-08T20:47:27.228854",
     "status": "completed"
    },
    "tags": []
   },
   "source": [
    "<hr/>\n",
    "\n",
    "# 2.\n",
    "\n",
    "Add code to the following cell to swap variables `a` and `b` (so that `a` refers to the object previously referred to by `b` and vice versa)."
   ]
  },
  {
   "cell_type": "code",
   "execution_count": 7,
   "id": "de97528a",
   "metadata": {
    "execution": {
     "iopub.execute_input": "2023-11-08T20:47:27.260593Z",
     "iopub.status.busy": "2023-11-08T20:47:27.260046Z",
     "iopub.status.idle": "2023-11-08T20:47:27.271833Z",
     "shell.execute_reply": "2023-11-08T20:47:27.270622Z"
    },
    "papermill": {
     "duration": 0.026769,
     "end_time": "2023-11-08T20:47:27.274504",
     "exception": false,
     "start_time": "2023-11-08T20:47:27.247735",
     "status": "completed"
    },
    "tags": []
   },
   "outputs": [
    {
     "data": {
      "application/javascript": [
       "parent.postMessage({\"jupyterEvent\": \"custom.exercise_interaction\", \"data\": {\"outcomeType\": 2, \"failureMessage\": \"`a` and `b` still have their original values.\", \"interactionType\": 1, \"questionType\": 2, \"questionId\": \"2_VariableSwap\", \"learnToolsVersion\": \"0.3.4\", \"valueTowardsCompletion\": 0.0, \"exceptionClass\": \"\", \"trace\": \"\"}}, \"*\")"
      ],
      "text/plain": [
       "<IPython.core.display.Javascript object>"
      ]
     },
     "metadata": {},
     "output_type": "display_data"
    },
    {
     "data": {
      "text/markdown": [
       "<span style=\"color:#cc3333\">Incorrect:</span> `a` and `b` still have their original values."
      ],
      "text/plain": [
       "Incorrect: `a` and `b` still have their original values."
      ]
     },
     "metadata": {},
     "output_type": "display_data"
    }
   ],
   "source": [
    "########### Setup code - don't touch this part ######################\n",
    "# If you're curious, these are examples of lists. We'll talk about \n",
    "# them in depth a few lessons from now. For now, just know that they're\n",
    "# yet another type of Python object, like int or float.\n",
    "a = [1, 2, 3]\n",
    "b = [3, 2, 1]\n",
    "q2.store_original_ids()\n",
    "######################################################################\n",
    "\n",
    "# Your code goes here. Swap the values to which a and b refer.\n",
    "# If you get stuck, you can always uncomment one or both of the lines in\n",
    "# the next cell for a hint, or to peek at the solution.\n",
    "\n",
    "######################################################################\n",
    "\n",
    "# Check your answer\n",
    "q2.check()"
   ]
  },
  {
   "cell_type": "code",
   "execution_count": 8,
   "id": "f821e5ac",
   "metadata": {
    "execution": {
     "iopub.execute_input": "2023-11-08T20:47:27.297364Z",
     "iopub.status.busy": "2023-11-08T20:47:27.296817Z",
     "iopub.status.idle": "2023-11-08T20:47:27.303219Z",
     "shell.execute_reply": "2023-11-08T20:47:27.300917Z"
    },
    "papermill": {
     "duration": 0.021708,
     "end_time": "2023-11-08T20:47:27.306440",
     "exception": false,
     "start_time": "2023-11-08T20:47:27.284732",
     "status": "completed"
    },
    "tags": []
   },
   "outputs": [],
   "source": [
    "#q2.hint()"
   ]
  },
  {
   "cell_type": "code",
   "execution_count": 9,
   "id": "01de7466",
   "metadata": {
    "execution": {
     "iopub.execute_input": "2023-11-08T20:47:27.329265Z",
     "iopub.status.busy": "2023-11-08T20:47:27.328800Z",
     "iopub.status.idle": "2023-11-08T20:47:27.333463Z",
     "shell.execute_reply": "2023-11-08T20:47:27.332230Z"
    },
    "papermill": {
     "duration": 0.019379,
     "end_time": "2023-11-08T20:47:27.336063",
     "exception": false,
     "start_time": "2023-11-08T20:47:27.316684",
     "status": "completed"
    },
    "tags": []
   },
   "outputs": [],
   "source": [
    "#q2.solution()"
   ]
  },
  {
   "cell_type": "markdown",
   "id": "53cd770d",
   "metadata": {
    "papermill": {
     "duration": 0.009798,
     "end_time": "2023-11-08T20:47:27.355999",
     "exception": false,
     "start_time": "2023-11-08T20:47:27.346201",
     "status": "completed"
    },
    "tags": []
   },
   "source": [
    "<hr/>\n",
    "\n",
    "# 3a.\n",
    "\n",
    "Add parentheses to the following expression so that it evaluates to 1."
   ]
  },
  {
   "cell_type": "code",
   "execution_count": 10,
   "id": "d16c91d8",
   "metadata": {
    "execution": {
     "iopub.execute_input": "2023-11-08T20:47:27.380350Z",
     "iopub.status.busy": "2023-11-08T20:47:27.379470Z",
     "iopub.status.idle": "2023-11-08T20:47:27.388168Z",
     "shell.execute_reply": "2023-11-08T20:47:27.386657Z"
    },
    "papermill": {
     "duration": 0.024345,
     "end_time": "2023-11-08T20:47:27.390964",
     "exception": false,
     "start_time": "2023-11-08T20:47:27.366619",
     "status": "completed"
    },
    "tags": []
   },
   "outputs": [
    {
     "data": {
      "text/plain": [
       "4"
      ]
     },
     "execution_count": 10,
     "metadata": {},
     "output_type": "execute_result"
    }
   ],
   "source": [
    "5 - 3 // 2"
   ]
  },
  {
   "cell_type": "code",
   "execution_count": 11,
   "id": "71892e12",
   "metadata": {
    "execution": {
     "iopub.execute_input": "2023-11-08T20:47:27.416610Z",
     "iopub.status.busy": "2023-11-08T20:47:27.415915Z",
     "iopub.status.idle": "2023-11-08T20:47:27.422213Z",
     "shell.execute_reply": "2023-11-08T20:47:27.420531Z"
    },
    "papermill": {
     "duration": 0.023519,
     "end_time": "2023-11-08T20:47:27.425571",
     "exception": false,
     "start_time": "2023-11-08T20:47:27.402052",
     "status": "completed"
    },
    "tags": []
   },
   "outputs": [],
   "source": [
    "#q3.a.hint()"
   ]
  },
  {
   "cell_type": "code",
   "execution_count": 12,
   "id": "9fe6687d",
   "metadata": {
    "execution": {
     "iopub.execute_input": "2023-11-08T20:47:27.450320Z",
     "iopub.status.busy": "2023-11-08T20:47:27.449847Z",
     "iopub.status.idle": "2023-11-08T20:47:27.459784Z",
     "shell.execute_reply": "2023-11-08T20:47:27.458509Z"
    },
    "papermill": {
     "duration": 0.026328,
     "end_time": "2023-11-08T20:47:27.462749",
     "exception": false,
     "start_time": "2023-11-08T20:47:27.436421",
     "status": "completed"
    },
    "tags": []
   },
   "outputs": [
    {
     "data": {
      "application/javascript": [
       "parent.postMessage({\"jupyterEvent\": \"custom.exercise_interaction\", \"data\": {\"interactionType\": 3, \"questionType\": 4, \"questionId\": \"3.1_ArithmeticParensEasy\", \"learnToolsVersion\": \"0.3.4\", \"valueTowardsCompletion\": 0.0, \"failureMessage\": \"\", \"exceptionClass\": \"\", \"trace\": \"\", \"outcomeType\": 4}}, \"*\")"
      ],
      "text/plain": [
       "<IPython.core.display.Javascript object>"
      ]
     },
     "metadata": {},
     "output_type": "display_data"
    },
    {
     "data": {
      "text/markdown": [
       "<span style=\"color:#33cc99\">Solution:</span> \n",
       "```python\n",
       "(5 - 3) // 2\n",
       "```"
      ],
      "text/plain": [
       "Solution: \n",
       "```python\n",
       "(5 - 3) // 2\n",
       "```"
      ]
     },
     "metadata": {},
     "output_type": "display_data"
    }
   ],
   "source": [
    "# Check your answer (Run this code cell to receive credit!)\n",
    "q3.a.solution()"
   ]
  },
  {
   "cell_type": "markdown",
   "id": "8a7fd295",
   "metadata": {
    "papermill": {
     "duration": 0.010635,
     "end_time": "2023-11-08T20:47:27.484318",
     "exception": false,
     "start_time": "2023-11-08T20:47:27.473683",
     "status": "completed"
    },
    "tags": []
   },
   "source": [
    "# 3b.  <span title=\"A bit spicy\" style=\"color: darkgreen \">🌶️</span>\n",
    "\n",
    "<small>Questions, like this one, marked a spicy pepper are a bit harder.</small>\n",
    "\n",
    "Add parentheses to the following expression so that it evaluates to 0."
   ]
  },
  {
   "cell_type": "code",
   "execution_count": 13,
   "id": "64eb1783",
   "metadata": {
    "execution": {
     "iopub.execute_input": "2023-11-08T20:47:27.508667Z",
     "iopub.status.busy": "2023-11-08T20:47:27.508198Z",
     "iopub.status.idle": "2023-11-08T20:47:27.516472Z",
     "shell.execute_reply": "2023-11-08T20:47:27.515175Z"
    },
    "papermill": {
     "duration": 0.023973,
     "end_time": "2023-11-08T20:47:27.519221",
     "exception": false,
     "start_time": "2023-11-08T20:47:27.495248",
     "status": "completed"
    },
    "tags": []
   },
   "outputs": [
    {
     "data": {
      "text/plain": [
       "2"
      ]
     },
     "execution_count": 13,
     "metadata": {},
     "output_type": "execute_result"
    }
   ],
   "source": [
    "8 - 3 * 2 - 1 + 1"
   ]
  },
  {
   "cell_type": "code",
   "execution_count": 14,
   "id": "834b8c7b",
   "metadata": {
    "execution": {
     "iopub.execute_input": "2023-11-08T20:47:27.545462Z",
     "iopub.status.busy": "2023-11-08T20:47:27.545010Z",
     "iopub.status.idle": "2023-11-08T20:47:27.550870Z",
     "shell.execute_reply": "2023-11-08T20:47:27.549331Z"
    },
    "papermill": {
     "duration": 0.022639,
     "end_time": "2023-11-08T20:47:27.553774",
     "exception": false,
     "start_time": "2023-11-08T20:47:27.531135",
     "status": "completed"
    },
    "tags": []
   },
   "outputs": [],
   "source": [
    "#q3.b.hint()"
   ]
  },
  {
   "cell_type": "code",
   "execution_count": 15,
   "id": "c1796638",
   "metadata": {
    "execution": {
     "iopub.execute_input": "2023-11-08T20:47:27.579865Z",
     "iopub.status.busy": "2023-11-08T20:47:27.578386Z",
     "iopub.status.idle": "2023-11-08T20:47:27.589469Z",
     "shell.execute_reply": "2023-11-08T20:47:27.588170Z"
    },
    "papermill": {
     "duration": 0.027669,
     "end_time": "2023-11-08T20:47:27.592802",
     "exception": false,
     "start_time": "2023-11-08T20:47:27.565133",
     "status": "completed"
    },
    "tags": []
   },
   "outputs": [
    {
     "data": {
      "application/javascript": [
       "parent.postMessage({\"jupyterEvent\": \"custom.exercise_interaction\", \"data\": {\"interactionType\": 3, \"questionType\": 4, \"questionId\": \"3.2_ArithmeticParensHard\", \"learnToolsVersion\": \"0.3.4\", \"valueTowardsCompletion\": 0.0, \"failureMessage\": \"\", \"exceptionClass\": \"\", \"trace\": \"\", \"outcomeType\": 4}}, \"*\")"
      ],
      "text/plain": [
       "<IPython.core.display.Javascript object>"
      ]
     },
     "metadata": {},
     "output_type": "display_data"
    },
    {
     "data": {
      "text/markdown": [
       "<span style=\"color:#33cc99\">Solution:</span> `(8 - 3) * (2 - (1 + 1))` is one solution. There may be others."
      ],
      "text/plain": [
       "Solution: `(8 - 3) * (2 - (1 + 1))` is one solution. There may be others."
      ]
     },
     "metadata": {},
     "output_type": "display_data"
    }
   ],
   "source": [
    "# Check your answer (Run this code cell to receive credit!)\n",
    "q3.b.solution()"
   ]
  },
  {
   "cell_type": "markdown",
   "id": "a8939c5b",
   "metadata": {
    "papermill": {
     "duration": 0.012421,
     "end_time": "2023-11-08T20:47:27.617227",
     "exception": false,
     "start_time": "2023-11-08T20:47:27.604806",
     "status": "completed"
    },
    "tags": []
   },
   "source": [
    "<hr/>\n",
    "\n",
    "# 4. \n",
    "Alice, Bob and Carol have agreed to pool their Halloween candy and split it evenly among themselves.\n",
    "For the sake of their friendship, any candies left over will be smashed. For example, if they collectively\n",
    "bring home 91 candies, they'll take 30 each and smash 1.\n",
    "\n",
    "Write an arithmetic expression below to calculate how many candies they must smash for a given haul."
   ]
  },
  {
   "cell_type": "code",
   "execution_count": 16,
   "id": "c3f64cbd",
   "metadata": {
    "execution": {
     "iopub.execute_input": "2023-11-08T20:47:27.643970Z",
     "iopub.status.busy": "2023-11-08T20:47:27.643450Z",
     "iopub.status.idle": "2023-11-08T20:47:27.654304Z",
     "shell.execute_reply": "2023-11-08T20:47:27.652975Z"
    },
    "papermill": {
     "duration": 0.026968,
     "end_time": "2023-11-08T20:47:27.657006",
     "exception": false,
     "start_time": "2023-11-08T20:47:27.630038",
     "status": "completed"
    },
    "tags": []
   },
   "outputs": [
    {
     "data": {
      "application/javascript": [
       "parent.postMessage({\"jupyterEvent\": \"custom.exercise_interaction\", \"data\": {\"outcomeType\": 4, \"interactionType\": 1, \"questionType\": 1, \"questionId\": \"4_CandySplitting\", \"learnToolsVersion\": \"0.3.4\", \"valueTowardsCompletion\": 0.0, \"failureMessage\": \"\", \"exceptionClass\": \"\", \"trace\": \"\"}}, \"*\")"
      ],
      "text/plain": [
       "<IPython.core.display.Javascript object>"
      ]
     },
     "metadata": {},
     "output_type": "display_data"
    },
    {
     "data": {
      "text/markdown": [
       "<span style=\"color:#ccaa33\">Check:</span> When you've updated the starter code, `check()` will tell you whether your code is correct. You need to update the code that creates variable `to_smash`"
      ],
      "text/plain": [
       "Check: When you've updated the starter code, `check()` will tell you whether your code is correct. You need to update the code that creates variable `to_smash`"
      ]
     },
     "metadata": {},
     "output_type": "display_data"
    }
   ],
   "source": [
    "# Variables representing the number of candies collected by alice, bob, and carol\n",
    "alice_candies = 121\n",
    "bob_candies = 77\n",
    "carol_candies = 109\n",
    "\n",
    "# Your code goes here! Replace the right-hand side of this assignment with an expression\n",
    "# involving alice_candies, bob_candies, and carol_candies\n",
    "to_smash = -1\n",
    "\n",
    "# Check your answer\n",
    "q4.check()"
   ]
  },
  {
   "cell_type": "code",
   "execution_count": 17,
   "id": "9455451f",
   "metadata": {
    "execution": {
     "iopub.execute_input": "2023-11-08T20:47:27.685530Z",
     "iopub.status.busy": "2023-11-08T20:47:27.685043Z",
     "iopub.status.idle": "2023-11-08T20:47:27.690663Z",
     "shell.execute_reply": "2023-11-08T20:47:27.689173Z"
    },
    "papermill": {
     "duration": 0.023772,
     "end_time": "2023-11-08T20:47:27.693444",
     "exception": false,
     "start_time": "2023-11-08T20:47:27.669672",
     "status": "completed"
    },
    "tags": []
   },
   "outputs": [],
   "source": [
    "#q4.hint()\n",
    "#q4.solution()"
   ]
  },
  {
   "cell_type": "markdown",
   "id": "7d39d59a",
   "metadata": {
    "papermill": {
     "duration": 0.012269,
     "end_time": "2023-11-08T20:47:27.718147",
     "exception": false,
     "start_time": "2023-11-08T20:47:27.705878",
     "status": "completed"
    },
    "tags": []
   },
   "source": [
    "# Keep Going\n",
    "\n",
    "Next up, you'll **[learn to write new functions and understand functions others write](https://www.kaggle.com/colinmorris/functions-and-getting-help)**. This will make you at least 10 times more productive as a Python programmer. "
   ]
  },
  {
   "cell_type": "markdown",
   "id": "84e891cf",
   "metadata": {
    "papermill": {
     "duration": 0.012318,
     "end_time": "2023-11-08T20:47:27.744199",
     "exception": false,
     "start_time": "2023-11-08T20:47:27.731881",
     "status": "completed"
    },
    "tags": []
   },
   "source": [
    "---\n",
    "\n",
    "\n",
    "\n",
    "\n",
    "*Have questions or comments? Visit the [course discussion forum](https://www.kaggle.com/learn/python/discussion) to chat with other learners.*"
   ]
  }
 ],
 "metadata": {
  "kernelspec": {
   "display_name": "Python 3",
   "language": "python",
   "name": "python3"
  },
  "language_info": {
   "codemirror_mode": {
    "name": "ipython",
    "version": 3
   },
   "file_extension": ".py",
   "mimetype": "text/x-python",
   "name": "python",
   "nbconvert_exporter": "python",
   "pygments_lexer": "ipython3",
   "version": "3.10.12"
  },
  "papermill": {
   "default_parameters": {},
   "duration": 6.315595,
   "end_time": "2023-11-08T20:47:28.481041",
   "environment_variables": {},
   "exception": null,
   "input_path": "__notebook__.ipynb",
   "output_path": "__notebook__.ipynb",
   "parameters": {},
   "start_time": "2023-11-08T20:47:22.165446",
   "version": "2.4.0"
  }
 },
 "nbformat": 4,
 "nbformat_minor": 5
}
