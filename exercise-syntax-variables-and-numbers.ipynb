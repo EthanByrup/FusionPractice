{
 "cells": [
  {
   "cell_type": "markdown",
   "id": "ca053a33",
   "metadata": {
    "papermill": {
     "duration": 0.009781,
     "end_time": "2023-11-08T21:05:05.514961",
     "exception": false,
     "start_time": "2023-11-08T21:05:05.505180",
     "status": "completed"
    },
    "tags": []
   },
   "source": [
    "**This notebook is an exercise in the [Python](https://www.kaggle.com/learn/python) course.  You can reference the tutorial at [this link](https://www.kaggle.com/colinmorris/hello-python).**\n",
    "\n",
    "---\n"
   ]
  },
  {
   "cell_type": "markdown",
   "id": "390e4879",
   "metadata": {
    "papermill": {
     "duration": 0.008886,
     "end_time": "2023-11-08T21:05:05.532967",
     "exception": false,
     "start_time": "2023-11-08T21:05:05.524081",
     "status": "completed"
    },
    "tags": []
   },
   "source": [
    "Welcome to your first set of Python coding problems.  If this is your first time using Kaggle Notebooks, welcome! \n",
    "\n",
    "Notebooks are composed of blocks (called \"cells\") of text and code. Each of these is editable, though you'll mainly be editing the code cells to answer some questions.\n",
    "\n",
    "To get started, try running the code cell below (by pressing the ► button, or clicking on the cell and pressing ctrl+enter on your keyboard)."
   ]
  },
  {
   "cell_type": "code",
   "execution_count": 1,
   "id": "eb49da6e",
   "metadata": {
    "execution": {
     "iopub.execute_input": "2023-11-08T21:05:05.553027Z",
     "iopub.status.busy": "2023-11-08T21:05:05.552433Z",
     "iopub.status.idle": "2023-11-08T21:05:05.568195Z",
     "shell.execute_reply": "2023-11-08T21:05:05.566834Z"
    },
    "papermill": {
     "duration": 0.029093,
     "end_time": "2023-11-08T21:05:05.570765",
     "exception": false,
     "start_time": "2023-11-08T21:05:05.541672",
     "status": "completed"
    },
    "tags": []
   },
   "outputs": [
    {
     "name": "stdout",
     "output_type": "stream",
     "text": [
      "You've successfully run some Python code\n",
      "Congratulations!\n"
     ]
    }
   ],
   "source": [
    "print(\"You've successfully run some Python code\")\n",
    "print(\"Congratulations!\")"
   ]
  },
  {
   "cell_type": "markdown",
   "id": "289230ad",
   "metadata": {
    "papermill": {
     "duration": 0.009324,
     "end_time": "2023-11-08T21:05:05.589254",
     "exception": false,
     "start_time": "2023-11-08T21:05:05.579930",
     "status": "completed"
    },
    "tags": []
   },
   "source": [
    "Try adding another line of code in the cell above and re-running it. \n",
    "\n",
    "Now let's get a little fancier:  Add a new code cell by clicking on an existing code cell, hitting the escape key, and then hitting the `a` or `b` key.  The `a` key will add a cell above the current cell, and `b` adds a cell below.\n",
    "\n",
    "Great! Now you know how to use Notebooks.\n",
    "\n",
    "Each hands-on exercise starts by setting up our feedback and code checking mechanism. Run the code cell below to do that. Then you'll be ready to move on to question 0."
   ]
  },
  {
   "cell_type": "code",
   "execution_count": 2,
   "id": "aabadcb5",
   "metadata": {
    "_kg_hide-input": true,
    "_kg_hide-output": true,
    "execution": {
     "iopub.execute_input": "2023-11-08T21:05:05.609398Z",
     "iopub.status.busy": "2023-11-08T21:05:05.608692Z",
     "iopub.status.idle": "2023-11-08T21:05:06.488035Z",
     "shell.execute_reply": "2023-11-08T21:05:06.486760Z"
    },
    "papermill": {
     "duration": 0.892649,
     "end_time": "2023-11-08T21:05:06.490849",
     "exception": false,
     "start_time": "2023-11-08T21:05:05.598200",
     "status": "completed"
    },
    "tags": []
   },
   "outputs": [
    {
     "name": "stdout",
     "output_type": "stream",
     "text": [
      "Setup complete! You're ready to start question 0.\n"
     ]
    }
   ],
   "source": [
    "from learntools.core import binder; binder.bind(globals())\n",
    "from learntools.python.ex1 import *\n",
    "print(\"Setup complete! You're ready to start question 0.\")"
   ]
  },
  {
   "cell_type": "markdown",
   "id": "7a489697",
   "metadata": {
    "papermill": {
     "duration": 0.008913,
     "end_time": "2023-11-08T21:05:06.508744",
     "exception": false,
     "start_time": "2023-11-08T21:05:06.499831",
     "status": "completed"
    },
    "tags": []
   },
   "source": [
    "# 0.\n",
    "\n",
    "*This is a silly question intended as an introduction to the format we use for hands-on exercises throughout all Kaggle courses.*\n",
    "\n",
    "**What is your favorite color? **\n",
    "\n",
    "To complete this question, create a variable called `color` in the cell below with an appropriate value. The function call `q0.check()` (which we've already provided in the cell below) will check your answer."
   ]
  },
  {
   "cell_type": "code",
   "execution_count": 3,
   "id": "1c861035",
   "metadata": {
    "execution": {
     "iopub.execute_input": "2023-11-08T21:05:06.528345Z",
     "iopub.status.busy": "2023-11-08T21:05:06.527820Z",
     "iopub.status.idle": "2023-11-08T21:05:06.539367Z",
     "shell.execute_reply": "2023-11-08T21:05:06.538037Z"
    },
    "papermill": {
     "duration": 0.024515,
     "end_time": "2023-11-08T21:05:06.541969",
     "exception": false,
     "start_time": "2023-11-08T21:05:06.517454",
     "status": "completed"
    },
    "tags": []
   },
   "outputs": [
    {
     "data": {
      "application/javascript": [
       "parent.postMessage({\"jupyterEvent\": \"custom.exercise_interaction\", \"data\": {\"outcomeType\": 1, \"valueTowardsCompletion\": 0.25, \"interactionType\": 1, \"questionType\": 2, \"questionId\": \"0_ExerciseFormatTutorial\", \"learnToolsVersion\": \"0.3.4\", \"failureMessage\": \"\", \"exceptionClass\": \"\", \"trace\": \"\"}}, \"*\")"
      ],
      "text/plain": [
       "<IPython.core.display.Javascript object>"
      ]
     },
     "metadata": {},
     "output_type": "display_data"
    },
    {
     "data": {
      "text/markdown": [
       "<span style=\"color:#33cc33\">Correct:</span> What?! You got it right without needing a hint or anything? Drats. Well hey, you should still continue to the next step to get some practice asking for a hint and checking solutions. (Even though you obviously don't need any help here.)"
      ],
      "text/plain": [
       "Correct: What?! You got it right without needing a hint or anything? Drats. Well hey, you should still continue to the next step to get some practice asking for a hint and checking solutions. (Even though you obviously don't need any help here.)"
      ]
     },
     "metadata": {},
     "output_type": "display_data"
    }
   ],
   "source": [
    "# create a variable called color with an appropriate value on the line below\n",
    "# (Remember, strings in Python must be enclosed in 'single' or \"double\" quotes)\n",
    "____\n",
    "\n",
    "# Check your answer\n",
    "color = \"blue\"\n",
    "q0.check()"
   ]
  },
  {
   "cell_type": "markdown",
   "id": "c8b756dc",
   "metadata": {
    "papermill": {
     "duration": 0.008963,
     "end_time": "2023-11-08T21:05:06.560319",
     "exception": false,
     "start_time": "2023-11-08T21:05:06.551356",
     "status": "completed"
    },
    "tags": []
   },
   "source": [
    "Didn't get the right answer? How do you not even know your own favorite color?!\n",
    "\n",
    "Delete the `#` in the line below to make one of the lines run. You can choose between getting a hint or the full answer by choosing which line to remove the `#` from. \n",
    "\n",
    "Removing the `#` is called uncommenting, because it changes that line from a \"comment\" which Python doesn't run to code, which Python does run."
   ]
  },
  {
   "cell_type": "code",
   "execution_count": 4,
   "id": "9a8d8830",
   "metadata": {
    "execution": {
     "iopub.execute_input": "2023-11-08T21:05:06.580952Z",
     "iopub.status.busy": "2023-11-08T21:05:06.580489Z",
     "iopub.status.idle": "2023-11-08T21:05:06.585201Z",
     "shell.execute_reply": "2023-11-08T21:05:06.583967Z"
    },
    "papermill": {
     "duration": 0.018171,
     "end_time": "2023-11-08T21:05:06.587612",
     "exception": false,
     "start_time": "2023-11-08T21:05:06.569441",
     "status": "completed"
    },
    "tags": []
   },
   "outputs": [],
   "source": [
    "#q0.hint()\n",
    "#q0.solution()"
   ]
  },
  {
   "cell_type": "markdown",
   "id": "f92a3546",
   "metadata": {
    "papermill": {
     "duration": 0.008936,
     "end_time": "2023-11-08T21:05:06.606281",
     "exception": false,
     "start_time": "2023-11-08T21:05:06.597345",
     "status": "completed"
    },
    "tags": []
   },
   "source": [
    "The upcoming questions work the same way. The only thing that will change are the question numbers. For the next question, you'll call `q1.check()`, `q1.hint()`, `q1.solution()`, for question 2, you'll call `q2.check()`, and so on."
   ]
  },
  {
   "cell_type": "markdown",
   "id": "5836e93f",
   "metadata": {
    "papermill": {
     "duration": 0.008915,
     "end_time": "2023-11-08T21:05:06.624614",
     "exception": false,
     "start_time": "2023-11-08T21:05:06.615699",
     "status": "completed"
    },
    "tags": []
   },
   "source": [
    "<hr/>\n",
    "\n",
    "# 1.\n",
    "\n",
    "Complete the code below. In case it's helpful, here is the table of available arithmetic operations:\n",
    "\n",
    "\n",
    "\n",
    "| Operator     | Name           | Description                                            |\n",
    "|--------------|----------------|--------------------------------------------------------|\n",
    "| ``a + b``    | Addition       | Sum of ``a`` and ``b``                                 |\n",
    "| ``a - b``    | Subtraction    | Difference of ``a`` and ``b``                          |\n",
    "| ``a * b``    | Multiplication | Product of ``a`` and ``b``                             |\n",
    "| ``a / b``    | True division  | Quotient of ``a`` and ``b``                            |\n",
    "| ``a // b``   | Floor division | Quotient of ``a`` and ``b``, removing fractional parts |\n",
    "| ``a % b``    | Modulus        | Integer remainder after division of ``a`` by ``b``     |\n",
    "| ``a ** b``   | Exponentiation | ``a`` raised to the power of ``b``                     |\n",
    "| ``-a``       | Negation       | The negative of ``a``                                  |\n",
    "\n",
    "<span style=\"display:none\"></span>\n"
   ]
  },
  {
   "cell_type": "code",
   "execution_count": 5,
   "id": "61cca8d1",
   "metadata": {
    "execution": {
     "iopub.execute_input": "2023-11-08T21:05:06.645313Z",
     "iopub.status.busy": "2023-11-08T21:05:06.644859Z",
     "iopub.status.idle": "2023-11-08T21:05:06.655318Z",
     "shell.execute_reply": "2023-11-08T21:05:06.654101Z"
    },
    "papermill": {
     "duration": 0.023832,
     "end_time": "2023-11-08T21:05:06.657699",
     "exception": false,
     "start_time": "2023-11-08T21:05:06.633867",
     "status": "completed"
    },
    "tags": []
   },
   "outputs": [
    {
     "data": {
      "application/javascript": [
       "parent.postMessage({\"jupyterEvent\": \"custom.exercise_interaction\", \"data\": {\"outcomeType\": 1, \"valueTowardsCompletion\": 0.25, \"interactionType\": 1, \"questionType\": 1, \"questionId\": \"1_CircleArea\", \"learnToolsVersion\": \"0.3.4\", \"failureMessage\": \"\", \"exceptionClass\": \"\", \"trace\": \"\"}}, \"*\")"
      ],
      "text/plain": [
       "<IPython.core.display.Javascript object>"
      ]
     },
     "metadata": {},
     "output_type": "display_data"
    },
    {
     "data": {
      "text/markdown": [
       "<span style=\"color:#33cc33\">Correct</span>"
      ],
      "text/plain": [
       "Correct"
      ]
     },
     "metadata": {},
     "output_type": "display_data"
    }
   ],
   "source": [
    "pi = 3.14159 # approximate\n",
    "diameter = 3\n",
    "\n",
    "# Create a variable called 'radius' equal to half the diameter\n",
    "radius = diameter / 2 \n",
    "\n",
    "# Create a variable called 'area', using the formula for the area of a circle: pi times the radius squared\n",
    "area = pi * (radius**2)\n",
    "\n",
    "# Check your answer\n",
    "q1.check()"
   ]
  },
  {
   "cell_type": "code",
   "execution_count": 6,
   "id": "4c8aeaf4",
   "metadata": {
    "execution": {
     "iopub.execute_input": "2023-11-08T21:05:06.680003Z",
     "iopub.status.busy": "2023-11-08T21:05:06.679566Z",
     "iopub.status.idle": "2023-11-08T21:05:06.684582Z",
     "shell.execute_reply": "2023-11-08T21:05:06.683391Z"
    },
    "papermill": {
     "duration": 0.019057,
     "end_time": "2023-11-08T21:05:06.687221",
     "exception": false,
     "start_time": "2023-11-08T21:05:06.668164",
     "status": "completed"
    },
    "tags": []
   },
   "outputs": [],
   "source": [
    "# Uncomment and run the lines below if you need help.\n",
    "#q1.hint()\n",
    "#q1.solution()"
   ]
  },
  {
   "cell_type": "markdown",
   "id": "33c5dbc6",
   "metadata": {
    "papermill": {
     "duration": 0.009417,
     "end_time": "2023-11-08T21:05:06.706501",
     "exception": false,
     "start_time": "2023-11-08T21:05:06.697084",
     "status": "completed"
    },
    "tags": []
   },
   "source": [
    "<hr/>\n",
    "\n",
    "# 2.\n",
    "\n",
    "Add code to the following cell to swap variables `a` and `b` (so that `a` refers to the object previously referred to by `b` and vice versa)."
   ]
  },
  {
   "cell_type": "code",
   "execution_count": 7,
   "id": "de88ea35",
   "metadata": {
    "execution": {
     "iopub.execute_input": "2023-11-08T21:05:06.728734Z",
     "iopub.status.busy": "2023-11-08T21:05:06.728211Z",
     "iopub.status.idle": "2023-11-08T21:05:06.740621Z",
     "shell.execute_reply": "2023-11-08T21:05:06.739327Z"
    },
    "papermill": {
     "duration": 0.026629,
     "end_time": "2023-11-08T21:05:06.743100",
     "exception": false,
     "start_time": "2023-11-08T21:05:06.716471",
     "status": "completed"
    },
    "tags": []
   },
   "outputs": [
    {
     "data": {
      "application/javascript": [
       "parent.postMessage({\"jupyterEvent\": \"custom.exercise_interaction\", \"data\": {\"outcomeType\": 1, \"valueTowardsCompletion\": 0.25, \"interactionType\": 1, \"questionType\": 2, \"questionId\": \"2_VariableSwap\", \"learnToolsVersion\": \"0.3.4\", \"failureMessage\": \"\", \"exceptionClass\": \"\", \"trace\": \"\"}}, \"*\")"
      ],
      "text/plain": [
       "<IPython.core.display.Javascript object>"
      ]
     },
     "metadata": {},
     "output_type": "display_data"
    },
    {
     "data": {
      "text/markdown": [
       "<span style=\"color:#33cc33\">Correct:</span> \n",
       "\n",
       "The most straightforward solution is to use a third variable to temporarily store one of the old values. e.g.:\n",
       "\n",
       "    tmp = a\n",
       "    a = b\n",
       "    b = tmp\n",
       "\n",
       "If you've read lots of Python code, you might have seen the following trick to swap two variables in one line:\n",
       "\n",
       "    a, b = b, a\n",
       "\n",
       "We'll demystify this bit of Python magic later when we talk about *tuples*."
      ],
      "text/plain": [
       "Correct: \n",
       "\n",
       "The most straightforward solution is to use a third variable to temporarily store one of the old values. e.g.:\n",
       "\n",
       "    tmp = a\n",
       "    a = b\n",
       "    b = tmp\n",
       "\n",
       "If you've read lots of Python code, you might have seen the following trick to swap two variables in one line:\n",
       "\n",
       "    a, b = b, a\n",
       "\n",
       "We'll demystify this bit of Python magic later when we talk about *tuples*."
      ]
     },
     "metadata": {},
     "output_type": "display_data"
    }
   ],
   "source": [
    "########### Setup code - don't touch this part ######################\n",
    "# If you're curious, these are examples of lists. We'll talk about \n",
    "# them in depth a few lessons from now. For now, just know that they're\n",
    "# yet another type of Python object, like int or float.\n",
    "a = [1, 2, 3]\n",
    "b = [3, 2, 1]\n",
    "q2.store_original_ids()\n",
    "######################################################################\n",
    "\n",
    "temp = a \n",
    "a = b\n",
    "b = temp\n",
    "\n",
    "######################################################################\n",
    "\n",
    "# Check your answer\n",
    "q2.check()"
   ]
  },
  {
   "cell_type": "code",
   "execution_count": 8,
   "id": "15c7a90a",
   "metadata": {
    "execution": {
     "iopub.execute_input": "2023-11-08T21:05:06.765899Z",
     "iopub.status.busy": "2023-11-08T21:05:06.765445Z",
     "iopub.status.idle": "2023-11-08T21:05:06.770309Z",
     "shell.execute_reply": "2023-11-08T21:05:06.769011Z"
    },
    "papermill": {
     "duration": 0.019724,
     "end_time": "2023-11-08T21:05:06.772942",
     "exception": false,
     "start_time": "2023-11-08T21:05:06.753218",
     "status": "completed"
    },
    "tags": []
   },
   "outputs": [],
   "source": [
    "#q2.hint()"
   ]
  },
  {
   "cell_type": "code",
   "execution_count": 9,
   "id": "85eafa7e",
   "metadata": {
    "execution": {
     "iopub.execute_input": "2023-11-08T21:05:06.797015Z",
     "iopub.status.busy": "2023-11-08T21:05:06.796165Z",
     "iopub.status.idle": "2023-11-08T21:05:06.801231Z",
     "shell.execute_reply": "2023-11-08T21:05:06.800374Z"
    },
    "papermill": {
     "duration": 0.020556,
     "end_time": "2023-11-08T21:05:06.803721",
     "exception": false,
     "start_time": "2023-11-08T21:05:06.783165",
     "status": "completed"
    },
    "tags": []
   },
   "outputs": [],
   "source": [
    "#q2.solution()"
   ]
  },
  {
   "cell_type": "markdown",
   "id": "acbe74df",
   "metadata": {
    "papermill": {
     "duration": 0.009821,
     "end_time": "2023-11-08T21:05:06.824306",
     "exception": false,
     "start_time": "2023-11-08T21:05:06.814485",
     "status": "completed"
    },
    "tags": []
   },
   "source": [
    "<hr/>\n",
    "\n",
    "# 3a.\n",
    "\n",
    "Add parentheses to the following expression so that it evaluates to 1."
   ]
  },
  {
   "cell_type": "code",
   "execution_count": 10,
   "id": "86a83e1a",
   "metadata": {
    "execution": {
     "iopub.execute_input": "2023-11-08T21:05:06.846710Z",
     "iopub.status.busy": "2023-11-08T21:05:06.846211Z",
     "iopub.status.idle": "2023-11-08T21:05:06.854342Z",
     "shell.execute_reply": "2023-11-08T21:05:06.853492Z"
    },
    "papermill": {
     "duration": 0.022019,
     "end_time": "2023-11-08T21:05:06.856565",
     "exception": false,
     "start_time": "2023-11-08T21:05:06.834546",
     "status": "completed"
    },
    "tags": []
   },
   "outputs": [
    {
     "data": {
      "text/plain": [
       "1"
      ]
     },
     "execution_count": 10,
     "metadata": {},
     "output_type": "execute_result"
    }
   ],
   "source": [
    "(5 - 3 ) // 2"
   ]
  },
  {
   "cell_type": "code",
   "execution_count": 11,
   "id": "bb4868f9",
   "metadata": {
    "execution": {
     "iopub.execute_input": "2023-11-08T21:05:06.880432Z",
     "iopub.status.busy": "2023-11-08T21:05:06.879617Z",
     "iopub.status.idle": "2023-11-08T21:05:06.884023Z",
     "shell.execute_reply": "2023-11-08T21:05:06.883169Z"
    },
    "papermill": {
     "duration": 0.019031,
     "end_time": "2023-11-08T21:05:06.886321",
     "exception": false,
     "start_time": "2023-11-08T21:05:06.867290",
     "status": "completed"
    },
    "tags": []
   },
   "outputs": [],
   "source": [
    "#q3.a.hint()"
   ]
  },
  {
   "cell_type": "code",
   "execution_count": 12,
   "id": "3b0ccca4",
   "metadata": {
    "execution": {
     "iopub.execute_input": "2023-11-08T21:05:06.910479Z",
     "iopub.status.busy": "2023-11-08T21:05:06.909591Z",
     "iopub.status.idle": "2023-11-08T21:05:06.919020Z",
     "shell.execute_reply": "2023-11-08T21:05:06.917910Z"
    },
    "papermill": {
     "duration": 0.024826,
     "end_time": "2023-11-08T21:05:06.921882",
     "exception": false,
     "start_time": "2023-11-08T21:05:06.897056",
     "status": "completed"
    },
    "tags": []
   },
   "outputs": [
    {
     "data": {
      "application/javascript": [
       "parent.postMessage({\"jupyterEvent\": \"custom.exercise_interaction\", \"data\": {\"interactionType\": 3, \"questionType\": 4, \"questionId\": \"3.1_ArithmeticParensEasy\", \"learnToolsVersion\": \"0.3.4\", \"valueTowardsCompletion\": 0.0, \"failureMessage\": \"\", \"exceptionClass\": \"\", \"trace\": \"\", \"outcomeType\": 4}}, \"*\")"
      ],
      "text/plain": [
       "<IPython.core.display.Javascript object>"
      ]
     },
     "metadata": {},
     "output_type": "display_data"
    },
    {
     "data": {
      "text/markdown": [
       "<span style=\"color:#33cc99\">Solution:</span> \n",
       "```python\n",
       "(5 - 3) // 2\n",
       "```"
      ],
      "text/plain": [
       "Solution: \n",
       "```python\n",
       "(5 - 3) // 2\n",
       "```"
      ]
     },
     "metadata": {},
     "output_type": "display_data"
    }
   ],
   "source": [
    "\n",
    "q3.a.solution()"
   ]
  },
  {
   "cell_type": "markdown",
   "id": "4ebbaa44",
   "metadata": {
    "papermill": {
     "duration": 0.010731,
     "end_time": "2023-11-08T21:05:06.943680",
     "exception": false,
     "start_time": "2023-11-08T21:05:06.932949",
     "status": "completed"
    },
    "tags": []
   },
   "source": [
    "# 3b.  <span title=\"A bit spicy\" style=\"color: darkgreen \">🌶️</span>\n",
    "\n",
    "<small>Questions, like this one, marked a spicy pepper are a bit harder.</small>\n",
    "\n",
    "Add parentheses to the following expression so that it evaluates to 0."
   ]
  },
  {
   "cell_type": "code",
   "execution_count": 13,
   "id": "5052daa1",
   "metadata": {
    "execution": {
     "iopub.execute_input": "2023-11-08T21:05:06.968191Z",
     "iopub.status.busy": "2023-11-08T21:05:06.967698Z",
     "iopub.status.idle": "2023-11-08T21:05:06.975369Z",
     "shell.execute_reply": "2023-11-08T21:05:06.974403Z"
    },
    "papermill": {
     "duration": 0.022153,
     "end_time": "2023-11-08T21:05:06.977479",
     "exception": false,
     "start_time": "2023-11-08T21:05:06.955326",
     "status": "completed"
    },
    "tags": []
   },
   "outputs": [
    {
     "data": {
      "text/plain": [
       "0"
      ]
     },
     "execution_count": 13,
     "metadata": {},
     "output_type": "execute_result"
    }
   ],
   "source": [
    "8 - 3 * 2 - (1 + 1)"
   ]
  },
  {
   "cell_type": "code",
   "execution_count": 14,
   "id": "c293d60b",
   "metadata": {
    "execution": {
     "iopub.execute_input": "2023-11-08T21:05:07.001908Z",
     "iopub.status.busy": "2023-11-08T21:05:07.001364Z",
     "iopub.status.idle": "2023-11-08T21:05:07.006583Z",
     "shell.execute_reply": "2023-11-08T21:05:07.005493Z"
    },
    "papermill": {
     "duration": 0.020432,
     "end_time": "2023-11-08T21:05:07.008970",
     "exception": false,
     "start_time": "2023-11-08T21:05:06.988538",
     "status": "completed"
    },
    "tags": []
   },
   "outputs": [],
   "source": [
    "#q3.b.hint()"
   ]
  },
  {
   "cell_type": "code",
   "execution_count": 15,
   "id": "3c8a0bad",
   "metadata": {
    "execution": {
     "iopub.execute_input": "2023-11-08T21:05:07.033649Z",
     "iopub.status.busy": "2023-11-08T21:05:07.033141Z",
     "iopub.status.idle": "2023-11-08T21:05:07.042311Z",
     "shell.execute_reply": "2023-11-08T21:05:07.041385Z"
    },
    "papermill": {
     "duration": 0.024339,
     "end_time": "2023-11-08T21:05:07.044567",
     "exception": false,
     "start_time": "2023-11-08T21:05:07.020228",
     "status": "completed"
    },
    "tags": []
   },
   "outputs": [
    {
     "data": {
      "application/javascript": [
       "parent.postMessage({\"jupyterEvent\": \"custom.exercise_interaction\", \"data\": {\"interactionType\": 3, \"questionType\": 4, \"questionId\": \"3.2_ArithmeticParensHard\", \"learnToolsVersion\": \"0.3.4\", \"valueTowardsCompletion\": 0.0, \"failureMessage\": \"\", \"exceptionClass\": \"\", \"trace\": \"\", \"outcomeType\": 4}}, \"*\")"
      ],
      "text/plain": [
       "<IPython.core.display.Javascript object>"
      ]
     },
     "metadata": {},
     "output_type": "display_data"
    },
    {
     "data": {
      "text/markdown": [
       "<span style=\"color:#33cc99\">Solution:</span> `(8 - 3) * (2 - (1 + 1))` is one solution. There may be others."
      ],
      "text/plain": [
       "Solution: `(8 - 3) * (2 - (1 + 1))` is one solution. There may be others."
      ]
     },
     "metadata": {},
     "output_type": "display_data"
    }
   ],
   "source": [
    "# Check your answer (Run this code cell to receive credit!)\n",
    "q3.b.solution()"
   ]
  },
  {
   "cell_type": "markdown",
   "id": "1cbad12c",
   "metadata": {
    "papermill": {
     "duration": 0.010958,
     "end_time": "2023-11-08T21:05:07.067081",
     "exception": false,
     "start_time": "2023-11-08T21:05:07.056123",
     "status": "completed"
    },
    "tags": []
   },
   "source": [
    "<hr/>\n",
    "\n",
    "# 4. \n",
    "Alice, Bob and Carol have agreed to pool their Halloween candy and split it evenly among themselves.\n",
    "For the sake of their friendship, any candies left over will be smashed. For example, if they collectively\n",
    "bring home 91 candies, they'll take 30 each and smash 1.\n",
    "\n",
    "Write an arithmetic expression below to calculate how many candies they must smash for a given haul."
   ]
  },
  {
   "cell_type": "code",
   "execution_count": 16,
   "id": "56b15505",
   "metadata": {
    "execution": {
     "iopub.execute_input": "2023-11-08T21:05:07.092394Z",
     "iopub.status.busy": "2023-11-08T21:05:07.091547Z",
     "iopub.status.idle": "2023-11-08T21:05:07.101434Z",
     "shell.execute_reply": "2023-11-08T21:05:07.099981Z"
    },
    "papermill": {
     "duration": 0.025584,
     "end_time": "2023-11-08T21:05:07.103899",
     "exception": false,
     "start_time": "2023-11-08T21:05:07.078315",
     "status": "completed"
    },
    "tags": []
   },
   "outputs": [
    {
     "data": {
      "application/javascript": [
       "parent.postMessage({\"jupyterEvent\": \"custom.exercise_interaction\", \"data\": {\"outcomeType\": 1, \"valueTowardsCompletion\": 0.25, \"interactionType\": 1, \"questionType\": 1, \"questionId\": \"4_CandySplitting\", \"learnToolsVersion\": \"0.3.4\", \"failureMessage\": \"\", \"exceptionClass\": \"\", \"trace\": \"\"}}, \"*\")"
      ],
      "text/plain": [
       "<IPython.core.display.Javascript object>"
      ]
     },
     "metadata": {},
     "output_type": "display_data"
    },
    {
     "data": {
      "text/markdown": [
       "<span style=\"color:#33cc33\">Correct</span>"
      ],
      "text/plain": [
       "Correct"
      ]
     },
     "metadata": {},
     "output_type": "display_data"
    }
   ],
   "source": [
    "# Variables representing the number of candies collected by alice, bob, and carol\n",
    "alice_candies = 121\n",
    "bob_candies = 77\n",
    "carol_candies = 109\n",
    "# Your code goes here! Replace the right-hand side of this assignment with an expression\n",
    "to_smash = (alice_candies + bob_candies + carol_candies) % 3\n",
    "# involving alice_candies, bob_candies, and carol_candies\n",
    "\n",
    "# Check your answer\n",
    "q4.check()"
   ]
  },
  {
   "cell_type": "code",
   "execution_count": 17,
   "id": "c1ca9d32",
   "metadata": {
    "execution": {
     "iopub.execute_input": "2023-11-08T21:05:07.129973Z",
     "iopub.status.busy": "2023-11-08T21:05:07.129473Z",
     "iopub.status.idle": "2023-11-08T21:05:07.134484Z",
     "shell.execute_reply": "2023-11-08T21:05:07.133257Z"
    },
    "papermill": {
     "duration": 0.02074,
     "end_time": "2023-11-08T21:05:07.136756",
     "exception": false,
     "start_time": "2023-11-08T21:05:07.116016",
     "status": "completed"
    },
    "tags": []
   },
   "outputs": [],
   "source": [
    "#q4.hint()\n",
    "#q4.solution()"
   ]
  },
  {
   "cell_type": "markdown",
   "id": "41635fbb",
   "metadata": {
    "papermill": {
     "duration": 0.011215,
     "end_time": "2023-11-08T21:05:07.159931",
     "exception": false,
     "start_time": "2023-11-08T21:05:07.148716",
     "status": "completed"
    },
    "tags": []
   },
   "source": [
    "# Keep Going\n",
    "\n",
    "Next up, you'll **[learn to write new functions and understand functions others write](https://www.kaggle.com/colinmorris/functions-and-getting-help)**. This will make you at least 10 times more productive as a Python programmer. "
   ]
  },
  {
   "cell_type": "markdown",
   "id": "4860edad",
   "metadata": {
    "papermill": {
     "duration": 0.012221,
     "end_time": "2023-11-08T21:05:07.183728",
     "exception": false,
     "start_time": "2023-11-08T21:05:07.171507",
     "status": "completed"
    },
    "tags": []
   },
   "source": [
    "---\n",
    "\n",
    "\n",
    "\n",
    "\n",
    "*Have questions or comments? Visit the [course discussion forum](https://www.kaggle.com/learn/python/discussion) to chat with other learners.*"
   ]
  }
 ],
 "metadata": {
  "kernelspec": {
   "display_name": "Python 3",
   "language": "python",
   "name": "python3"
  },
  "language_info": {
   "codemirror_mode": {
    "name": "ipython",
    "version": 3
   },
   "file_extension": ".py",
   "mimetype": "text/x-python",
   "name": "python",
   "nbconvert_exporter": "python",
   "pygments_lexer": "ipython3",
   "version": "3.10.12"
  },
  "papermill": {
   "default_parameters": {},
   "duration": 7.319087,
   "end_time": "2023-11-08T21:05:07.921606",
   "environment_variables": {},
   "exception": null,
   "input_path": "__notebook__.ipynb",
   "output_path": "__notebook__.ipynb",
   "parameters": {},
   "start_time": "2023-11-08T21:05:00.602519",
   "version": "2.4.0"
  }
 },
 "nbformat": 4,
 "nbformat_minor": 5
}
